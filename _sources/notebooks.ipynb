{
 "cells": [
  {
   "cell_type": "markdown",
   "metadata": {},
   "source": [
    "# Sistem Persamaan Linier\n",
    "\n",
    "Pengertian Persamaan Linier Persamaan linier adalah persamaan yang menggambarkan hubungan antara variabel-variabel dengan perubahan yang bersifat tetap atau sebanding. Disebut “linier” karena jika digambarkan dalam grafik, bentuknya berupa garis lurus.\n",
    "\n",
    "Ciri-Ciri Persamaan Linier Hanya mengandung variabel dengan pangkat satu. Tidak ada perkalian antar variabel. Bentuknya sederhana dan mudah dihitung. Jika digambarkan, akan membentuk garis lurus. Contoh dalam Kehidupan Sehari-hari Menghitung harga total belanja, misalnya saat membeli beberapa barang dengan harga tetap. Menentukan jarak perjalanan, jika seseorang berkendara dengan kecepatan tetap selama beberapa waktu. Menghitung keuntungan bisnis, di mana total keuntungan bergantung pada jumlah barang yang terjual. Kesimpulan Persamaan linier adalah konsep dasar dalam matematika yang sering digunakan dalam kehidupan sehari-hari untuk berbagai perhitungan sederhana dan logis.\n",
    "\n"
   ]
  },
  {
   "cell_type": "code",
   "execution_count": null,
   "metadata": {},
   "outputs": [],
   "source": [
    "from matplotlib import rcParams, cycler\n",
    "import matplotlib.pyplot as plt\n",
    "import numpy as np\n",
    "plt.ion()"
   ]
  },
  {
   "cell_type": "code",
   "execution_count": null,
   "metadata": {},
   "outputs": [],
   "source": [
    "# Fixing random state for reproducibility\n",
    "np.random.seed(19680801)\n",
    "\n",
    "N = 10\n",
    "data = [np.logspace(0, 1, 100) + np.random.randn(100) + ii for ii in range(N)]\n",
    "data = np.array(data).T\n",
    "cmap = plt.cm.coolwarm\n",
    "rcParams['axes.prop_cycle'] = cycler(color=cmap(np.linspace(0, 1, N)))\n",
    "\n",
    "\n",
    "from matplotlib.lines import Line2D\n",
    "custom_lines = [Line2D([0], [0], color=cmap(0.), lw=4),\n",
    "                Line2D([0], [0], color=cmap(.5), lw=4),\n",
    "                Line2D([0], [0], color=cmap(1.), lw=4)]\n",
    "\n",
    "fig, ax = plt.subplots(figsize=(10, 5))\n",
    "lines = ax.plot(data)\n",
    "ax.legend(custom_lines, ['Cold', 'Medium', 'Hot']);"
   ]
  },
  {
   "cell_type": "markdown",
   "metadata": {},
   "source": [
    "There is a lot more that you can do with outputs (such as including interactive outputs)\n",
    "with your book. For more information about this, see [the Jupyter Book documentation](https://jupyterbook.org)"
   ]
  }
 ],
 "metadata": {
  "kernelspec": {
   "display_name": "Python 3",
   "language": "python",
   "name": "python3"
  },
  "language_info": {
   "codemirror_mode": {
    "name": "ipython",
    "version": 3
   },
   "file_extension": ".py",
   "mimetype": "text/x-python",
   "name": "python",
   "nbconvert_exporter": "python",
   "pygments_lexer": "ipython3",
   "version": "3.8.0"
  },
  "widgets": {
   "application/vnd.jupyter.widget-state+json": {
    "state": {},
    "version_major": 2,
    "version_minor": 0
   }
  }
 },
 "nbformat": 4,
 "nbformat_minor": 4
}
